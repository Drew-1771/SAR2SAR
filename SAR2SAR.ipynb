{
 "cells": [
  {
   "cell_type": "markdown",
   "metadata": {
    "id": "a94OoNwSB4K8"
   },
   "source": [
    "# SAR2SAR: a self-supervised despeckling algorithm for SAR images\n",
    "## Emanuele Dalsasso, Loïc Denis, Florence Tupin\n",
    "\n",
    "Please note that the training set is only composed of **GRD** SAR images, thus this testing code is specific to this data."
   ]
  },
  {
   "cell_type": "markdown",
   "metadata": {
    "id": "V7SJyBmKrSIH",
    "pycharm": {
     "name": "#%% md\n"
    }
   },
   "source": [
    "## Resources\n",
    "- [Paper (ArXiv)](https://arxiv.org/abs/2006.15037)\n",
    "\n",
    "To cite the article:\n",
    "\n",
    "    @article{dalsasso2020sar2sar,\n",
    "        title={{SAR2SAR}: a self-supervised despeckling algorithm for {SAR} images},\n",
    "        author={Emanuele Dalsasso and Loïc Denis and Florence Tupin},\n",
    "        journal={arXiv preprint arXiv:2006.15037},\n",
    "        year={2020}\n",
    "    }"
   ]
  },
  {
   "cell_type": "markdown",
   "metadata": {
    "id": "rBSypL94C9L3"
   },
   "source": [
    "## 1. Install required libraries"
   ]
  },
  {
   "cell_type": "code",
   "execution_count": null,
   "metadata": {
    "id": "Fn6fXbssdjm4",
    "scrolled": true
   },
   "outputs": [],
   "source": [
    "!pip install -r requirements.txt"
   ]
  },
  {
   "cell_type": "markdown",
   "metadata": {
    "id": "vJfhq_QbGvkg"
   },
   "source": [
    "## 2. Set up the data enviornment\n",
    "The model.py contains the run_model function. Here is the docstring for the run_model function:\n",
    "    \n",
    "    Runs the despeckling algorithm\n",
    "\n",
    "    Arguments:\n",
    "        input_dir: Path to a directory containing the files to be despeckled. Files need to be in .npy\n",
    "                   format\n",
    "        save_dir: Path to a directory where the files will be saved\n",
    "        checkpoint_dir: Path to a directory containing the tensorflow checkpoints, if left as None, the\n",
    "                        despeckling algorithm will use the grd_checkpoint directory\n",
    "        stride: U-Net is scanned over the image with a default stride of 64 pixels when the image dimension\n",
    "                exceeds 256. This parameter modifies the default stride in pixels. Lower pixel count = higher quality\n",
    "                results, at the cost of higher runtime\n",
    "        store_noisy: Whether to store the \"noisy\" or input in the save_dir. Default is True\n",
    "        generate_png: Whether to generate PNG of the outputs in the save_dir. Default is True\n",
    "        debug: Whether to generate print statements at runtime that communicate what is going on\n",
    "\n",
    "    Returns:\n",
    "        None\n",
    "\n",
    "**You will need to set the input_dir and save_dir filepaths.** Here is an example of what that could look like."
   ]
  },
  {
   "cell_type": "code",
   "execution_count": null,
   "metadata": {},
   "outputs": [],
   "source": [
    "import os\n",
    "from pathlib import Path\n",
    "\n",
    "# current folder this file is in\n",
    "current_dir = Path(os.getcwd())\n",
    "\n",
    "# set the path of the input and save directories\n",
    "example_input_dir = str(current_dir / \"src\" / \"test_data\" / \"grd_test_data\")\n",
    "example_save_dir = str(current_dir / \"example_output\")\n",
    "\n",
    "# set the path of your own input and save directory\n",
    "my_input_dir = str()\n",
    "my_save_dir = str()\n",
    "\n",
    "print(f\"Input directory set to: {my_input_dir}\")\n",
    "print(f\"Save directory set to: {my_save_dir}\")"
   ]
  },
  {
   "cell_type": "markdown",
   "metadata": {
    "id": "mZTikzYaR0zh"
   },
   "source": [
    "## 3. Run the example model\n",
    "Run the example model to make sure that everything has been installed correctly and is ready to run. This code was originally written for Tensorflow V1, so the tensorflow library will throw a lot of warnings.\n",
    "When the model is done, you should see a folder named example_output with noisy_ and denoised_ files inside of it.\n",
    "\n",
    "***The model will print this line when it has finished:***\n",
    "\n",
    "[!!!] Done"
   ]
  },
  {
   "cell_type": "code",
   "execution_count": null,
   "metadata": {
    "id": "JdSva30cNp75"
   },
   "outputs": [],
   "source": [
    "import tensorflow as tf\n",
    "tf.compat.v1.reset_default_graph()\n",
    "from src.model import run_model\n",
    "\n",
    "run_model(example_input_dir, example_save_dir)"
   ]
  },
  {
   "cell_type": "markdown",
   "metadata": {},
   "source": [
    "## 4. Run the model on your data"
   ]
  },
  {
   "cell_type": "code",
   "execution_count": null,
   "metadata": {},
   "outputs": [],
   "source": [
    "tf.compat.v1.reset_default_graph()\n",
    "run_model(my_input_dir, my_save_dir)"
   ]
  }
 ],
 "metadata": {
  "accelerator": "GPU",
  "colab": {
   "collapsed_sections": [],
   "name": "SAR2SAR_GRD_test.ipynb",
   "provenance": [],
   "toc_visible": true
  },
  "kernelspec": {
   "display_name": "Python 3 (ipykernel)",
   "language": "python",
   "name": "python3"
  },
  "language_info": {
   "codemirror_mode": {
    "name": "ipython",
    "version": 3
   },
   "file_extension": ".py",
   "mimetype": "text/x-python",
   "name": "python",
   "nbconvert_exporter": "python",
   "pygments_lexer": "ipython3",
   "version": "3.11.5"
  }
 },
 "nbformat": 4,
 "nbformat_minor": 4
}
